{
  "nbformat": 4,
  "nbformat_minor": 0,
  "metadata": {
    "colab": {
      "provenance": [],
      "toc_visible": true,
      "include_colab_link": true
    },
    "kernelspec": {
      "name": "python3",
      "display_name": "Python 3"
    },
    "language_info": {
      "name": "python"
    }
  },
  "cells": [
    {
      "cell_type": "markdown",
      "metadata": {
        "id": "view-in-github",
        "colab_type": "text"
      },
      "source": [
        "<a href=\"https://colab.research.google.com/github/mssamoilenko/AI_HW1/blob/master/%D0%94%D0%97_2.ipynb\" target=\"_parent\"><img src=\"https://colab.research.google.com/assets/colab-badge.svg\" alt=\"Open In Colab\"/></a>"
      ]
    },
    {
      "cell_type": "markdown",
      "source": [
        "Імпортуйте модуль numpy"
      ],
      "metadata": {
        "id": "tk2sNnUDkXK9"
      }
    },
    {
      "cell_type": "code",
      "source": [
        "import numpy as np"
      ],
      "metadata": {
        "id": "1QbCsQ62kUmZ"
      },
      "execution_count": 1,
      "outputs": []
    },
    {
      "cell_type": "markdown",
      "source": [
        "#Завдання 1\n",
        "\n",
        "Створіть масив з парними числами між 30 і 70"
      ],
      "metadata": {
        "id": "ZVC4Yb3JZFO1"
      }
    },
    {
      "cell_type": "code",
      "source": [
        "b = a[a % 2 == 0]\n",
        "b"
      ],
      "metadata": {
        "id": "aunm4Jm_hUkL",
        "outputId": "adb7e42b-97ec-4093-f3f5-22af8c00918d",
        "colab": {
          "base_uri": "https://localhost:8080/"
        }
      },
      "execution_count": 3,
      "outputs": [
        {
          "output_type": "execute_result",
          "data": {
            "text/plain": [
              "array([30, 32, 34, 36, 38, 40, 42, 44, 46, 48, 50, 52, 54, 56, 58, 60, 62,\n",
              "       64, 66, 68])"
            ]
          },
          "metadata": {},
          "execution_count": 3
        }
      ]
    },
    {
      "cell_type": "markdown",
      "source": [
        "#Завдання 2\n",
        "Створіть масив з 10 числами між 0(включно) та 1(не включно) див документацію np.linspace"
      ],
      "metadata": {
        "id": "UDSLr3f0b31r"
      }
    },
    {
      "cell_type": "code",
      "source": [
        "g = np.linspace(0, 0.9,10)\n",
        "g"
      ],
      "metadata": {
        "id": "w7iNkGd_hUM-",
        "outputId": "901e4813-5db6-4f4c-9911-cf1e569936d1",
        "colab": {
          "base_uri": "https://localhost:8080/"
        }
      },
      "execution_count": 4,
      "outputs": [
        {
          "output_type": "execute_result",
          "data": {
            "text/plain": [
              "array([0. , 0.1, 0.2, 0.3, 0.4, 0.5, 0.6, 0.7, 0.8, 0.9])"
            ]
          },
          "metadata": {},
          "execution_count": 4
        }
      ]
    },
    {
      "cell_type": "markdown",
      "source": [
        "#Завдання 4\n",
        "Напишіть функцію яка приймає матрицю розміру nxn та повертає матрицю розміру (n+2) x (n+2), на краях якої розміщенні 0."
      ],
      "metadata": {
        "id": "rtWKmLWhYi_j"
      }
    },
    {
      "cell_type": "code",
      "source": [
        "def gener_new_matrix(matrix):\n",
        "    n = matrix.shape[0]\n",
        "    new_matrix = np.zeros((n+2, n+2), dtype=matrix.dtype)\n",
        "    new_matrix[1: n+1, 1: n+1] = matrix\n",
        "    return new_matrix\n",
        "matrix=np.array([[1,2],[3,4]])\n",
        "gener_new_matrix(matrix)"
      ],
      "metadata": {
        "id": "mU7vjsnqhVfk",
        "colab": {
          "base_uri": "https://localhost:8080/"
        },
        "outputId": "2c5a62ab-62a4-41e3-8b43-e483576ddce4"
      },
      "execution_count": 5,
      "outputs": [
        {
          "output_type": "execute_result",
          "data": {
            "text/plain": [
              "array([[0, 0, 0, 0],\n",
              "       [0, 1, 2, 0],\n",
              "       [0, 3, 4, 0],\n",
              "       [0, 0, 0, 0]])"
            ]
          },
          "metadata": {},
          "execution_count": 5
        }
      ]
    },
    {
      "cell_type": "markdown",
      "source": [
        "#Завдання 5\n",
        "У попередьньому масиві змініть тип даних. Виведіть тип даних до та після зміни"
      ],
      "metadata": {
        "id": "ok_hMAEJa9oh"
      }
    },
    {
      "cell_type": "code",
      "source": [
        "n = gener_new_matrix(matrix)\n",
        "n_float = n.astype('float32')\n",
        "\n",
        "n_float.dtype\n",
        "n_float"
      ],
      "metadata": {
        "id": "vYlj3r3ShV98",
        "outputId": "8a589d76-666a-40a8-fe5e-d3b321a1548f",
        "colab": {
          "base_uri": "https://localhost:8080/"
        }
      },
      "execution_count": 9,
      "outputs": [
        {
          "output_type": "execute_result",
          "data": {
            "text/plain": [
              "array([[0., 0., 0., 0.],\n",
              "       [0., 1., 2., 0.],\n",
              "       [0., 3., 4., 0.],\n",
              "       [0., 0., 0., 0.]], dtype=float32)"
            ]
          },
          "metadata": {},
          "execution_count": 9
        }
      ]
    },
    {
      "cell_type": "markdown",
      "source": [
        "#Завдання 6\n",
        "У даному масиві замініть елементи, які дорівнюють\\більші\\менші за var на -1"
      ],
      "metadata": {
        "id": "aR7TWyqgZUDg"
      }
    },
    {
      "cell_type": "code",
      "source": [
        "x = np.array([1, 5, 3, 8, 6, 5, 7, 4])\n",
        "var = 5"
      ],
      "metadata": {
        "id": "oPzL69Fbg2Wq"
      },
      "execution_count": 11,
      "outputs": []
    },
    {
      "cell_type": "code",
      "source": [
        "x[x == var] = -1"
      ],
      "metadata": {
        "id": "X1JtOFpyzqSC"
      },
      "execution_count": 12,
      "outputs": []
    },
    {
      "cell_type": "code",
      "source": [
        "x[x > var] = -1"
      ],
      "metadata": {
        "id": "rZcYNoVizubx"
      },
      "execution_count": 13,
      "outputs": []
    },
    {
      "cell_type": "code",
      "source": [
        "x[x < var] = -1"
      ],
      "metadata": {
        "id": "KVLZ0UorzuP5"
      },
      "execution_count": 14,
      "outputs": []
    },
    {
      "cell_type": "markdown",
      "source": [
        "#Завдання 7\n",
        "Замініть пропущені значення матриці(np.nan) на -1\n",
        "\n",
        "Дивись np.isnan"
      ],
      "metadata": {
        "id": "Ks3Rtc7kajMJ"
      }
    },
    {
      "cell_type": "code",
      "source": [
        "X = np.array([[1, 2, np.nan, 4],\n",
        "              [5, np.nan, np.nan, 4],\n",
        "              [np.nan, 10, 11, np.nan]])"
      ],
      "metadata": {
        "id": "Rr8CdINEg3Rj"
      },
      "execution_count": 16,
      "outputs": []
    },
    {
      "cell_type": "code",
      "source": [
        "X[np.isnan(X)] = -1\n",
        "X"
      ],
      "metadata": {
        "colab": {
          "base_uri": "https://localhost:8080/"
        },
        "id": "kqXbZq-a8zL_",
        "outputId": "3152bfe6-35a1-4f59-a0b1-a6b9c0972786"
      },
      "execution_count": 21,
      "outputs": [
        {
          "output_type": "execute_result",
          "data": {
            "text/plain": [
              "array([[ 1.,  2., -1.,  4.],\n",
              "       [ 5., -1., -1.,  4.],\n",
              "       [-1., 10., 11., -1.]])"
            ]
          },
          "metadata": {},
          "execution_count": 21
        }
      ]
    },
    {
      "cell_type": "markdown",
      "source": [
        "#Завдання 8\n",
        "Створіть матрицю розміру 4х6 з випадковими числами. Змініть її розмір на 3х8"
      ],
      "metadata": {
        "id": "teYwjikMa0gs"
      }
    },
    {
      "cell_type": "code",
      "source": [
        "arr = np.random.randint(1, 100,(4,6))\n",
        "arr.reshape(3,8)"
      ],
      "metadata": {
        "id": "JhNvUJwxhXED",
        "colab": {
          "base_uri": "https://localhost:8080/"
        },
        "outputId": "5ca90705-8810-4985-cd25-690cfcbaab64"
      },
      "execution_count": 32,
      "outputs": [
        {
          "output_type": "execute_result",
          "data": {
            "text/plain": [
              "array([[47, 16, 95, 98, 84, 59, 60, 46],\n",
              "       [66, 56, 80, 13, 54, 59, 34, 32],\n",
              "       [28, 73, 94, 76, 34, 45, 98, 50]])"
            ]
          },
          "metadata": {},
          "execution_count": 32
        }
      ]
    },
    {
      "cell_type": "markdown",
      "source": [
        "#Завдання 9\n",
        "Створіть випадкову матрицю розміром 3х4. Знайдіть середнє арифметичне(mean) кожного стовпчика"
      ],
      "metadata": {
        "id": "jVE8280acszi"
      }
    },
    {
      "cell_type": "code",
      "source": [
        "arr = np.random.randint(1, 100,(3,4))\n",
        "arr\n",
        "\n",
        "x1 = arr[:, 0]\n",
        "resx1 = np.mean(x1)\n",
        "\n",
        "x2 = arr[:, 1]\n",
        "resx2 = np.mean(x2)\n",
        "\n",
        "x3 = arr[:, 2]\n",
        "resx3 = np.mean(x3)\n",
        "\n",
        "x4 = arr[:, 3]\n",
        "resx4 = np.mean(x4)\n",
        "\n",
        "\n"
      ],
      "metadata": {
        "id": "5QI6HPNHhXd4"
      },
      "execution_count": 36,
      "outputs": []
    },
    {
      "cell_type": "markdown",
      "source": [
        "#Завдання 10\n",
        "Є матриця з ймовірностями того, що зображення(рядки) належить певному класу(стовпчики). Для кожного зображення(рядка) знайдіть індекс класу(стовпчика) з найбільшою ймовірністю"
      ],
      "metadata": {
        "id": "nK6LwLjfc9aC"
      }
    },
    {
      "cell_type": "code",
      "source": [
        "x = np.array([[0.2 , 0.3 , 0.23, 0.07, 0.03, 0.17],\n",
        "              [0.15, 0.06, 0.21, 0.12, 0.24, 0.24],\n",
        "              [0.1 , 0.21, 0.03, 0.07, 0.31, 0.28],\n",
        "              [0.21, 0.24, 0.03, 0.18, 0.12, 0.21],\n",
        "              [0.19, 0.25, 0.25, 0.06, 0.12, 0.12]])\n",
        "\n",
        "max_indices = np.argmax(x, axis=1)\n",
        "max_indices"
      ],
      "metadata": {
        "id": "pERBNp12hX58",
        "outputId": "9176850f-369c-411b-a32a-cb0b13fb28c3",
        "colab": {
          "base_uri": "https://localhost:8080/"
        }
      },
      "execution_count": 37,
      "outputs": [
        {
          "output_type": "execute_result",
          "data": {
            "text/plain": [
              "array([1, 4, 4, 1, 1])"
            ]
          },
          "metadata": {},
          "execution_count": 37
        }
      ]
    },
    {
      "cell_type": "markdown",
      "source": [
        "Пояснення: в першому рядку найбільша ймовірність -- 0.3 під індексом 1\n",
        "\n",
        "в другому рядку -- 0.24 під індексом 4\n",
        "\n",
        "в третьому рядку -- 0.31 під індексом 4\n",
        "\n",
        "в четвертому рядку -- 0.24 під індексом 1\n",
        "\n",
        "в п'ятому рядку -- 0.25 під індексом 1(там є ще одне 0.25, але ми беремо те що з меншим індексом)\n"
      ],
      "metadata": {
        "id": "9aarGgUP2TaX"
      }
    },
    {
      "cell_type": "markdown",
      "source": [
        "#Завдання 11\n",
        "В даній матриці знайдіть всі елементи зі значенням між 3 і 6\n",
        "\n",
        "Дивись документацію np.logical_and"
      ],
      "metadata": {
        "id": "faCqq4bxiXsg"
      }
    },
    {
      "cell_type": "code",
      "source": [
        "X = np.array([[1, 2, 3, 4, 5],\n",
        "              [6, 7, 8, 9, 10],\n",
        "              [9, 8, 7, 6, 5],\n",
        "              [4, 3, 2, 1, 0]])"
      ],
      "metadata": {
        "id": "01ZY_c-tilOF"
      },
      "execution_count": 38,
      "outputs": []
    },
    {
      "cell_type": "code",
      "source": [
        "mask = np.logical_and(X >= 3, X <= 6)\n",
        "\n",
        "result = X[mask]\n",
        "result"
      ],
      "metadata": {
        "colab": {
          "base_uri": "https://localhost:8080/"
        },
        "id": "90bjkDNNJDmn",
        "outputId": "1645d754-b2d0-4db6-9350-8e73241d2842"
      },
      "execution_count": 42,
      "outputs": [
        {
          "output_type": "execute_result",
          "data": {
            "text/plain": [
              "array([3, 4, 5, 6, 6, 5, 4, 3])"
            ]
          },
          "metadata": {},
          "execution_count": 42
        }
      ]
    },
    {
      "cell_type": "markdown",
      "source": [
        "#Завдання 12\n",
        "Створіть випадкову матрицю розміру 5х6. Нормалізуйте стовпчики: від кожного елемента ставпчика відніміть мінімальне значення та поділіть результат на різницю між максимальним та мінімальним елементом цього стовпчика.\n",
        "\n",
        "Після цього всі значення мають бути в межах [0, 1]"
      ],
      "metadata": {
        "id": "cCZSaa3DMKxb"
      }
    },
    {
      "cell_type": "code",
      "source": [
        "matrix = np.random.randint(0, 10, size=(5, 6))\n",
        "matrix"
      ],
      "metadata": {
        "id": "qnOYOAgOMqRi",
        "outputId": "d5bf6923-ecc6-4203-9b70-a81a1d2804e3",
        "colab": {
          "base_uri": "https://localhost:8080/"
        }
      },
      "execution_count": 43,
      "outputs": [
        {
          "output_type": "execute_result",
          "data": {
            "text/plain": [
              "array([[0, 2, 4, 5, 3, 8],\n",
              "       [7, 5, 6, 9, 9, 6],\n",
              "       [5, 0, 5, 5, 8, 6],\n",
              "       [1, 4, 1, 2, 3, 2],\n",
              "       [7, 3, 6, 3, 3, 7]])"
            ]
          },
          "metadata": {},
          "execution_count": 43
        }
      ]
    },
    {
      "cell_type": "code",
      "source": [
        "min_vals = matrix.min(axis=0)\n",
        "max_vals = matrix.max(axis=0)\n",
        "\n",
        "normalized_matrix = (matrix - min_vals) / (max_vals - min_vals)\n",
        "normalized_matrix"
      ],
      "metadata": {
        "id": "d60tOdfg0vn2",
        "colab": {
          "base_uri": "https://localhost:8080/"
        },
        "outputId": "55ce33db-f137-4111-bdb7-aa6ea9b1a777"
      },
      "execution_count": 44,
      "outputs": [
        {
          "output_type": "execute_result",
          "data": {
            "text/plain": [
              "array([[0.        , 0.4       , 0.6       , 0.42857143, 0.        ,\n",
              "        1.        ],\n",
              "       [1.        , 1.        , 1.        , 1.        , 1.        ,\n",
              "        0.66666667],\n",
              "       [0.71428571, 0.        , 0.8       , 0.42857143, 0.83333333,\n",
              "        0.66666667],\n",
              "       [0.14285714, 0.8       , 0.        , 0.        , 0.        ,\n",
              "        0.        ],\n",
              "       [1.        , 0.6       , 1.        , 0.14285714, 0.        ,\n",
              "        0.83333333]])"
            ]
          },
          "metadata": {},
          "execution_count": 44
        }
      ]
    }
  ]
}